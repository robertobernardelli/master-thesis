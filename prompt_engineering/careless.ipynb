{
 "cells": [
  {
   "cell_type": "markdown",
   "metadata": {},
   "source": [
    "# 1st Stage: Situation Assessment, given the simulation context and the agent's perception"
   ]
  },
  {
   "cell_type": "code",
   "execution_count": 44,
   "metadata": {},
   "outputs": [
    {
     "name": "stdout",
     "output_type": "stream",
     "text": [
      "1. Adam reads the newspaper and learns about virus X spreading in Tamamushi City and that 1% of the population is infected and symptomatic.\n",
      "\n",
      "2. Adam sees that one of his friends, Neysa, is currently infected and symptomatic with virus X.\n",
      "\n",
      "3. Adam may think that since only 1% of the population is infected, the virus is not a big deal and he doesn't need to worry about it.\n",
      "\n",
      "4. Adam might consider that he is not showing any symptoms and feels fine, so he doesn't see the need to take any precautions.\n",
      "\n",
      "5. Adam may believe that he is not at risk of getting seriously ill from the virus and doesn't see the importance of taking preventive measures.\n",
      "\n",
      "6. Adam's lack of concern for the virus and disregard for spreading it to others may lead him to continue his daily activities without taking any precautions or changing his behavior.\n",
      "\n",
      "7. Adam's mindset of not caring about the well-being of others could lead him to potentially endangering his friend Neysa and other contacts by not taking the necessary steps to prevent the spread of the virus.\n"
     ]
    }
   ],
   "source": [
    "api_key = open('key.txt').read().strip()\n",
    "from openai import OpenAI\n",
    "client = OpenAI(api_key=api_key)\n",
    "\n",
    "\n",
    "prompt = \"\"\"\n",
    "CONTEXT: \n",
    "Adam is 47 years old. Adam lives in Tamamushi City.\n",
    "Adam is currently aware that virus X spreading across the country. From the newspaper, Adam learns that 1% of the population in Tamamushi City has been infected with X and is symptomatic.\n",
    "Adam has 1 friends. Of these friends, Neysa are currently infected and symptomatic. \n",
    "\n",
    "Adam's perception of the virus: \n",
    "Adam is not cautious. Adam is not afraid of the virus spreading in the city. Adam doesn’t care about spreading the virus to his contacts, and disregards the well-being of others.\n",
    "\n",
    "Given this context, you must imagine what Adam is thinking step-by-step as he would do.\n",
    "\"\"\"\n",
    "\n",
    "response = client.chat.completions.create(\n",
    "model=\"gpt-3.5-turbo-0125\",\n",
    "#response_format={ \"type\": \"json_object\" },\n",
    "messages=[\n",
    "{\"role\": \"system\", \"content\": f\"imagine what Adam is thinking step-by-step as he would do in this situation based on the context\"},\n",
    "{\"role\": \"user\", \"content\": prompt},\n",
    "]\n",
    ")\n",
    "reasoning = response.choices[0].message.content\n",
    "print(reasoning)"
   ]
  },
  {
   "cell_type": "markdown",
   "metadata": {},
   "source": [
    "# 2nd Stage: Decision Making, given the reasoning"
   ]
  },
  {
   "cell_type": "code",
   "execution_count": 47,
   "metadata": {},
   "outputs": [
    {
     "name": "stdout",
     "output_type": "stream",
     "text": [
      "Adam may decide to go to work because he feels fine and believes that since only 1% of the population is infected, the virus is not a major concern. However, as he knows his friend Neysa is infected, there is a chance he could be a carrier without showing symptoms. Despite this, Adam may still opt to go to work.\n",
      "\n",
      "Considering his transportation options, Adam might choose public transport as it is cheaper, even though it carries the risk of exposing him to potentially infected individuals. He may justify this by thinking that the chances of him getting infected are low, and the cost-effectiveness of public transport outweighs the potential risk.\n",
      "\n",
      "After work, Adam may decide to participate in the social activity with his friends because he believes that he is not at risk of getting seriously ill from the virus. This decision could potentially put his friends at risk, especially if he unknowingly carries the virus.\n",
      "\n",
      "As for wearing a mask, given Adam's lack of concern for the virus and belief that he is not at risk, he might choose not to wear a mask. He may see it as unnecessary since he feels fine and does not perceive a significant threat from the virus.\n",
      "\n",
      "Overall, Adam's decisions may be influenced by his perception that the virus is not a major concern, his lack of visible symptoms, and his disregard for the well-being of others. This mindset could lead to him taking risks that could potentially harm both himself and those around him.\n"
     ]
    }
   ],
   "source": [
    "prompt = f\"\"\"\n",
    "Adam's perception of the virus: \n",
    "Adam is not cautious. Adam is not afraid of the virus spreading in the city. Adam doesn’t care about spreading the virus to his contacts, and disregards the well-being of others.\n",
    "\n",
    "Reasoning of ADAM: \n",
    "{reasoning}\n",
    "\n",
    "Now, Adam needs to make the following decisions:\n",
    "- Go to work OR stay at home. His work cannot be done remotely.\n",
    "- If Adam goes to work, does he take the public transport (cheap but could expose you to infected people) or private transport (expensive, but safer)?\n",
    "- After work, Adam can decide if he wants to participate in a social activity with his friends.\n",
    "- Does Adam wear a mask today or not?\n",
    "\n",
    "Given this context, Adam weighs the risks and benefits of his decisions, and decides what to do. Imagine what Adam would decide based on his reasoning.\n",
    "\"\"\"\n",
    "\n",
    "response = client.chat.completions.create(\n",
    "model=\"gpt-3.5-turbo-0125\",\n",
    "#response_format={ \"type\": \"json_object\" },\n",
    "messages=[\n",
    "{\"role\": \"system\", \"content\": f\"Impersonate Adam, reason through the situation and make decisions based on the context\"},\n",
    "{\"role\": \"user\", \"content\": prompt},\n",
    "]\n",
    ")\n",
    "decisions = response.choices[0].message.content\n",
    "print(decisions)"
   ]
  },
  {
   "cell_type": "markdown",
   "metadata": {},
   "source": [
    "# 3rd Stage: extract boolean decisions"
   ]
  },
  {
   "cell_type": "code",
   "execution_count": 48,
   "metadata": {},
   "outputs": [
    {
     "name": "stdout",
     "output_type": "stream",
     "text": [
      "{\n",
      "\"go_to_work\": true,\n",
      "\"transport_public\": true,\n",
      "\"wear_mask\": false,\n",
      "\"social_activity\": true\n",
      "}\n"
     ]
    }
   ],
   "source": [
    "api_key = open('key.txt').read().strip()\n",
    "from openai import OpenAI\n",
    "client = OpenAI(api_key=api_key)\n",
    "\n",
    "prompt = \"\"\"\n",
    "I will give you a reasoning string and your task is to extract the boolean decisions out of a reasoning.\n",
    "\n",
    "Example 1:\n",
    "Reasoning: \"Only 1% of the population is symptomatic, and all of my friends and coworkers are feeling good. Therefore, I believe the risk of getting the virus is low, and have decided to go to work by public transport. Wearing a mask will not be necessary. I will also participate in social activity with my friends.\"\n",
    "Output:\n",
    "{\n",
    "\"go_to_work\": true,\n",
    "\"transport_public\": true,\n",
    "\"wear_mask\": false,\n",
    "\"social_activity\": true\n",
    "}\n",
    "\n",
    "Example 2:\n",
    "Reasoning: \"The % of infectious cases is starting to become dangeourlsy high, but I still need to go to work. I will take a taxi to work to minimize the risk of exposure. I will wear a mask to protect myself. I will not participate in social activity with my friends as a precaution.\"\n",
    "Output:\n",
    "{\n",
    "\"go_to_work\": true,\n",
    "\"transport_public\": false,\n",
    "\"wear_mask\": true,\n",
    "\"social_activity\": false\n",
    "}\n",
    "\n",
    "Your turn now:\n",
    "Reasoning: \"\n",
    "\"\"\"\n",
    "\n",
    "prompt += decisions + '\"'\n",
    "\n",
    "response = client.chat.completions.create(\n",
    "model=\"gpt-3.5-turbo-0125\",\n",
    "response_format={ \"type\": \"json_object\" },\n",
    "messages=[\n",
    "{\"role\": \"system\", \"content\": f\"Impersonate Belia. Output his decisions in JSON format.\"},\n",
    "{\"role\": \"user\", \"content\": prompt},\n",
    "]\n",
    ")\n",
    "response_str2 = response.choices[0].message.content\n",
    "print(response_str2)"
   ]
  }
 ],
 "metadata": {
  "kernelspec": {
   "display_name": ".venv",
   "language": "python",
   "name": "python3"
  },
  "language_info": {
   "codemirror_mode": {
    "name": "ipython",
    "version": 3
   },
   "file_extension": ".py",
   "mimetype": "text/x-python",
   "name": "python",
   "nbconvert_exporter": "python",
   "pygments_lexer": "ipython3",
   "version": "3.11.2"
  }
 },
 "nbformat": 4,
 "nbformat_minor": 2
}
