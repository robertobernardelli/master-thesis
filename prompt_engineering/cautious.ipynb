{
 "cells": [
  {
   "cell_type": "markdown",
   "metadata": {},
   "source": [
    "# 1st Stage: Situation Assessment, given the simulation context and the agent's perception"
   ]
  },
  {
   "cell_type": "code",
   "execution_count": 31,
   "metadata": {},
   "outputs": [
    {
     "name": "stdout",
     "output_type": "stream",
     "text": [
      "Step 1: Adam hears about virus X spreading across the country.\n",
      "\"It's concerning to hear about this new virus spreading. I should stay informed and cautious.\"\n",
      "\n",
      "Step 2: Adam learns about the confirmed infection cases in Tamamushi City.\n",
      "\"10 cases out of 100 people in our city, that's quite a significant number. I need to be extra careful.\"\n",
      "\n",
      "Step 3: Adam finds out about George and John being infected and symptomatic.\n",
      "\"I hope George and John recover quickly. This hits close to home now that people I know are affected.\"\n",
      "\n",
      "Step 4: Adam assesses the risk in his own social circle.\n",
      "\"George and John are both infected, and they were in close contact with me recently. I might have been exposed without knowing it.\"\n",
      "\n",
      "Step 5: Adam considers his actions and the potential risks.\n",
      "\"I have 3 friends and 4 coworkers. I need to be cautious around them and monitor my own health for any symptoms.\"\n",
      "\n",
      "Step 6: Adam weighs the options of going to work, socializing, and running errands.\n",
      "\"Given the number of cases in our city and the infections in my close contacts, I should limit unnecessary interactions and avoid crowded places for now.\"\n",
      "\n",
      "Step 7: Adam makes a decision to minimize his exposure to the virus.\n",
      "\"I need to prioritize my health and safety. I will work from home if possible, limit social gatherings, and only go out for essential activities like getting groceries.\"\n",
      "\n",
      "Adam's thought process reflects his concern for the situation and his proactive approach to protecting himself and others from virus X.\n"
     ]
    }
   ],
   "source": [
    "api_key = open('key.txt').read().strip()\n",
    "from openai import OpenAI\n",
    "client = OpenAI(api_key=api_key)\n",
    "\n",
    "\n",
    "prompt = \"\"\"\n",
    "CONTEXT: \n",
    "Adam is 47 years old. Adam lives in Tamamushi City.\n",
    "Adam is currently aware that virus X spreading across the country. An active case can be infectious without feeling any symptoms (asymptomatic) and unknowingly spread the disease. From the newspaper, Adam learns that there are currently 10 confirmed infections cases (out of 100 population in Tamamushi).\n",
    "Adam has 3 friends. Of these friends, George currently infected and symptomatic'\n",
    "Adam works with 4 coworkers. Of these coworkers, John is currently infected and symptomatic.\n",
    "Adam's perception of the virus: \n",
    "Adam will assess the situation, and will make his decisions depending on the risk. If there aren't many cases, he will not be worried, and act normally (e.g. go to work, go to the supermarket, socialize with friends)\n",
    "\n",
    "Given this context, you must imagine what Adam is thinking step-by-step as he would do.\n",
    "\"\"\"\n",
    "\n",
    "response = client.chat.completions.create(\n",
    "model=\"gpt-3.5-turbo-0125\",\n",
    "#response_format={ \"type\": \"json_object\" },\n",
    "messages=[\n",
    "{\"role\": \"system\", \"content\": f\"imagine what Adam is thinking step-by-step as he would do in this situation based on the context\"},\n",
    "{\"role\": \"user\", \"content\": prompt},\n",
    "]\n",
    ")\n",
    "reasoning = response.choices[0].message.content\n",
    "print(reasoning)"
   ]
  },
  {
   "cell_type": "markdown",
   "metadata": {},
   "source": [
    "# 2nd Stage: Decision Making, given the reasoning"
   ]
  },
  {
   "cell_type": "code",
   "execution_count": 32,
   "metadata": {},
   "outputs": [
    {
     "name": "stdout",
     "output_type": "stream",
     "text": [
      "Considering the increasing number of cases in Tamamushi City and the fact that some people in my close circle are infected, I would prioritize my health and safety by choosing to stay at home instead of going to work. Even though my work cannot be done remotely, the risk of exposure to the virus outweighs the necessity of going to the workplace.\n",
      "\n",
      "If staying at home is not an option, I would choose private transport over public transport despite the added expense, as it reduces the chances of coming into contact with potentially infected individuals during the commute.\n",
      "\n",
      "After work, I would refrain from participating in any social activities with friends to minimize the risk of spreading or contracting the virus further.\n",
      "\n",
      "Given the circumstances of the virus spreading in the city, it would be prudent for me to wear a mask whenever I step out of my house, including today, to provide an additional layer of protection against potential infection. My health and safety, as well as the well-being of those around me, are my top priorities in this situation.\n"
     ]
    }
   ],
   "source": [
    "prompt = f\"\"\"\n",
    "Adam's perception of the virus: \n",
    "Adam will assess the situation, and will make his decisions depending on the risk. If there aren't many cases, he will not be worried, and act normally (e.g. go to work, go to the supermarket, socialize with friends)\n",
    "\n",
    "Reasoning of Adam: \n",
    "{reasoning}\n",
    "\n",
    "Now, Adam needs to make the following decisions:\n",
    "- Go to work OR stay at home. His work cannot be done remotely.\n",
    "- If Adam goes to work, does he take the public transport (cheap but could expose you to infected people) or private transport (expensive, but safer)?\n",
    "- After work, Adam can decide if he wants to participate in a social activity with his friends.\n",
    "- Does Adam wear a mask today or not?\n",
    "\n",
    "Given this context, Adam weighs the risks and benefits of his decisions, and decides what to do. Imagine what Adam would decide based on his reasoning.\n",
    "\"\"\"\n",
    "\n",
    "response = client.chat.completions.create(\n",
    "model=\"gpt-3.5-turbo-0125\",\n",
    "#response_format={ \"type\": \"json_object\" },\n",
    "messages=[\n",
    "{\"role\": \"system\", \"content\": f\"Impersonate Adam, reason through the situation and make decisions based on the context\"},\n",
    "{\"role\": \"user\", \"content\": prompt},\n",
    "]\n",
    ")\n",
    "decisions = response.choices[0].message.content\n",
    "print(decisions)"
   ]
  },
  {
   "cell_type": "markdown",
   "metadata": {},
   "source": [
    "# 3rd Stage: extract boolean decisions"
   ]
  },
  {
   "cell_type": "code",
   "execution_count": 34,
   "metadata": {},
   "outputs": [
    {
     "name": "stdout",
     "output_type": "stream",
     "text": [
      "{\n",
      "\"go_to_work\": false,\n",
      "\"transport_public\": false,\n",
      "\"wear_mask\": true,\n",
      "\"social_activity\": false\n",
      "}\n"
     ]
    }
   ],
   "source": [
    "api_key = open('key.txt').read().strip()\n",
    "from openai import OpenAI\n",
    "client = OpenAI(api_key=api_key)\n",
    "\n",
    "prompt = \"\"\"\n",
    "I will give you a reasoning string and your task is to extract the boolean decisions out of a reasoning.\n",
    "\n",
    "Example 1:\n",
    "Reasoning: \"Only 1% of the population is symptomatic, and all of my friends and coworkers are feeling good. Therefore, I believe the risk of getting the virus is low, and have decided to go to work by public transport. Wearing a mask will not be necessary. I will also participate in social activity with my friends.\"\n",
    "Output:\n",
    "{\n",
    "\"go_to_work\": true,\n",
    "\"transport_public\": true,\n",
    "\"wear_mask\": false,\n",
    "\"social_activity\": true\n",
    "}\n",
    "\n",
    "Example 2:\n",
    "Reasoning: \"The % of infectious cases is starting to become dangeourlsy high, but I still need to go to work. I will take a taxi to work to minimize the risk of exposure. I will wear a mask to protect myself. I will not participate in social activity with my friends as a precaution.\"\n",
    "Output:\n",
    "{\n",
    "\"go_to_work\": true,\n",
    "\"transport_public\": false,\n",
    "\"wear_mask\": true,\n",
    "\"social_activity\": false\n",
    "}\n",
    "\n",
    "Your turn now:\n",
    "Reasoning: \"\n",
    "\"\"\"\n",
    "\n",
    "prompt += decisions + '\"'\n",
    "\n",
    "response = client.chat.completions.create(\n",
    "model=\"gpt-3.5-turbo-0125\",\n",
    "response_format={ \"type\": \"json_object\" },\n",
    "messages=[\n",
    "{\"role\": \"system\", \"content\": f\"Execute the task following the examples given. You must output JSON with boolean values for each of the decisions\"},\n",
    "{\"role\": \"user\", \"content\": prompt},\n",
    "]\n",
    ")\n",
    "response_str2 = response.choices[0].message.content\n",
    "print(response_str2)"
   ]
  },
  {
   "cell_type": "code",
   "execution_count": null,
   "metadata": {},
   "outputs": [],
   "source": []
  }
 ],
 "metadata": {
  "kernelspec": {
   "display_name": ".venv",
   "language": "python",
   "name": "python3"
  },
  "language_info": {
   "codemirror_mode": {
    "name": "ipython",
    "version": 3
   },
   "file_extension": ".py",
   "mimetype": "text/x-python",
   "name": "python",
   "nbconvert_exporter": "python",
   "pygments_lexer": "ipython3",
   "version": "3.11.2"
  }
 },
 "nbformat": 4,
 "nbformat_minor": 2
}
