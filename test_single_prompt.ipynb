{
 "cells": [
  {
   "cell_type": "code",
   "execution_count": 2,
   "metadata": {},
   "outputs": [
    {
     "name": "stdout",
     "output_type": "stream",
     "text": [
      "{\n",
      "\"reasoning\": \"The risk of infection is relatively high with 3% of the population infected, and with infected individuals at work and among friends. Therefore, I will stay at home today and avoid public transport. I will also wear a mask if I need to go out for essential tasks and will not participate in any social activity with my friends for now.\"\n",
      ",\n",
      "\"go_to_work\": false,\n",
      "\"transport_public\": false,\n",
      "\"wear_mask\": true,\n",
      "\"social_activity\": false\n",
      "}\n"
     ]
    }
   ],
   "source": [
    "api_key = open('key.txt').read().strip()\n",
    "from openai import OpenAI\n",
    "client = OpenAI(api_key=api_key)\n",
    "\n",
    "prompt = \"\"\"\n",
    "CONTEXT: \n",
    "Adam is 47 years old. Adam lives in Tamamushi City.\n",
    "Adam is currently aware that virus X spreading across the country. From the newspaper, Adam learns that 3% of the population in Tamamushi City has been infected with X.\n",
    "\n",
    "Adam has 1 friends. Of these friends, Neysa are currently infected and symptomatic\n",
    "Adam works with 1 people. Of these people, Dina are currently infected and symptomatic\n",
    "\n",
    "Adam will assess the situation, and will make his decisions depending on the risk. For example, if the risk is low or not significant, he will go out without a mask (for example if the percentage of infected people is relatively low).\n",
    "Given Adam's belief about the virus X and context, he needs to make the following decisions:\n",
    "\n",
    "\n",
    "- Go to work OR stay at home. His work cannot be done remotely.\n",
    "\n",
    "\n",
    "- If Adam goes to work, does he take the public transport (cheap but could expose you to infected people) or taxi (expensive, but safer)?\n",
    "\n",
    "\n",
    "- After work, Adam can decide if he wants to participate in a social activity with his friends.\n",
    "\n",
    "\n",
    "- Does Adam wear a mask today or not?\n",
    "\n",
    "\n",
    "Write an output json that briefly summarises the reasoning and states the decisions Adam made.\n",
    "Example of a generic output json:\n",
    "\n",
    "\n",
    "{\n",
    "\"reasoning: : \"Since the risk of infection is low, I will go to work by public transport without wearing a mask. I will also participate in a social activity with my friends.\"\n",
    "\"go_to_work\": true,\n",
    "\"transport_public\": true,\n",
    "\"wear_mask\": false,\n",
    "\"social_activity\": true\n",
    "}\n",
    "\"\"\"\n",
    "\n",
    "response = client.chat.completions.create(\n",
    "model=\"gpt-3.5-turbo-1106\",\n",
    "response_format={ \"type\": \"json_object\" },\n",
    "messages=[\n",
    "{\"role\": \"system\", \"content\": f\"Impersonate Belia. Output his decisions in JSON format.\"},\n",
    "{\"role\": \"user\", \"content\": prompt},\n",
    "]\n",
    ")\n",
    "response_str = response.choices[0].message.content\n",
    "print(response_str)"
   ]
  },
  {
   "cell_type": "code",
   "execution_count": null,
   "metadata": {},
   "outputs": [],
   "source": []
  }
 ],
 "metadata": {
  "kernelspec": {
   "display_name": ".venv",
   "language": "python",
   "name": "python3"
  },
  "language_info": {
   "codemirror_mode": {
    "name": "ipython",
    "version": 3
   },
   "file_extension": ".py",
   "mimetype": "text/x-python",
   "name": "python",
   "nbconvert_exporter": "python",
   "pygments_lexer": "ipython3",
   "version": "3.11.2"
  }
 },
 "nbformat": 4,
 "nbformat_minor": 2
}
